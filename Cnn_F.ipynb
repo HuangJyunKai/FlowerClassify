{
 "cells": [
  {
   "cell_type": "code",
   "execution_count": 1,
   "metadata": {},
   "outputs": [],
   "source": [
    "from multiprocessing import freeze_support\n",
    "\n",
    "import torch\n",
    "from torch import nn\n",
    "from torch.autograd import Variable\n",
    "from torch.utils.data import DataLoader, Sampler\n",
    "from torchvision import datasets\n",
    "from torchvision import models\n",
    "from torchvision.transforms import transforms\n",
    "from torch.optim import Adam\n",
    "\n",
    "\n",
    "import matplotlib.pyplot as plt\n",
    "import numpy as np\n",
    "\n",
    "from pathlib import Path"
   ]
  },
  {
   "cell_type": "code",
   "execution_count": 2,
   "metadata": {},
   "outputs": [],
   "source": [
    "# Hyperparameters.\n",
    "num_epochs = 20\n",
    "num_classes = 5\n",
    "batch_size = 100\n",
    "learning_rate = 0.001\n",
    "num_of_workers = 5"
   ]
  },
  {
   "cell_type": "code",
   "execution_count": 3,
   "metadata": {},
   "outputs": [],
   "source": [
    "DATA_PATH_TRAIN = Path('./flowers')\n",
    "DATA_PATH_TEST = Path('./unlabel-flowers')\n",
    "MODEL_STORE_PATH = Path('./')"
   ]
  },
  {
   "cell_type": "code",
   "execution_count": 4,
   "metadata": {},
   "outputs": [],
   "source": [
    "device = torch.device(\"cuda:0\" if torch.cuda.is_available() else \"cpu\")"
   ]
  },
  {
   "cell_type": "code",
   "execution_count": 5,
   "metadata": {},
   "outputs": [],
   "source": [
    "trans = transforms.Compose([\n",
    "    transforms.RandomHorizontalFlip(),\n",
    "    transforms.Resize(32),\n",
    "    transforms.CenterCrop(32),\n",
    "    transforms.ToTensor(),\n",
    "    #transforms.Normalize((0.5, 0.5, 0.5),(0.5, 0.5, 0.5))\n",
    "    transforms.Normalize(mean=[0.485, 0.456, 0.406],\n",
    "                         std=[0.229, 0.224, 0.225])\n",
    "    ])"
   ]
  },
  {
   "cell_type": "code",
   "execution_count": 6,
   "metadata": {},
   "outputs": [],
   "source": [
    "# Flowers dataset.\n",
    "train_dataset = datasets.ImageFolder(root=DATA_PATH_TRAIN, transform=trans)\n",
    "test_dataset = datasets.ImageFolder(root=DATA_PATH_TEST, transform=trans)\n",
    "# Create custom random sampler class to iter over dataloader.\n",
    "train_loader = DataLoader(dataset=train_dataset, batch_size=batch_size, shuffle=True, num_workers=num_of_workers)\n",
    "test_loader = DataLoader(dataset=test_dataset, batch_size=batch_size, shuffle=False, num_workers=num_of_workers)"
   ]
  },
  {
   "cell_type": "code",
   "execution_count": 7,
   "metadata": {},
   "outputs": [],
   "source": [
    "\n",
    "# CNN we are going to implement.\n",
    "class Unit(nn.Module):\n",
    "    def __init__(self, in_channels, out_channels):\n",
    "        super(Unit, self).__init__()\n",
    "\n",
    "        self.conv = nn.Conv2d(in_channels=in_channels, kernel_size=3, out_channels=out_channels, stride=1, padding=1)\n",
    "        self.bn = nn.BatchNorm2d(num_features=out_channels)\n",
    "        self.relu = nn.ReLU()\n",
    "\n",
    "    def forward(self, input):\n",
    "        output = self.conv(input)\n",
    "        output = self.bn(output)\n",
    "        output = self.relu(output)\n",
    "\n",
    "        return output"
   ]
  },
  {
   "cell_type": "code",
   "execution_count": 8,
   "metadata": {},
   "outputs": [],
   "source": [
    "class CNNet(nn.Module):\n",
    "    def __init__(self, num_class):\n",
    "        super(CNNet, self).__init__()\n",
    "\n",
    "        # Create 14 layers of the unit with max pooling in between\n",
    "        self.unit1 = Unit(in_channels=3, out_channels=32)\n",
    "        self.unit2 = Unit(in_channels=32, out_channels=32)\n",
    "        self.unit3 = Unit(in_channels=32, out_channels=32)\n",
    "\n",
    "        self.pool1 = nn.MaxPool2d(kernel_size=2)\n",
    "\n",
    "        self.unit4 = Unit(in_channels=32, out_channels=64)\n",
    "        self.unit5 = Unit(in_channels=64, out_channels=64)\n",
    "        self.unit6 = Unit(in_channels=64, out_channels=64)\n",
    "        self.unit7 = Unit(in_channels=64, out_channels=64)\n",
    "\n",
    "        self.pool2 = nn.MaxPool2d(kernel_size=2)\n",
    "\n",
    "        self.unit8 = Unit(in_channels=64, out_channels=128)\n",
    "        self.unit9 = Unit(in_channels=128, out_channels=128)\n",
    "        self.unit10 = Unit(in_channels=128, out_channels=128)\n",
    "        self.unit11 = Unit(in_channels=128, out_channels=128)\n",
    "\n",
    "        self.pool3 = nn.MaxPool2d(kernel_size=2)\n",
    "\n",
    "        self.unit12 = Unit(in_channels=128, out_channels=128)\n",
    "        self.unit13 = Unit(in_channels=128, out_channels=128)\n",
    "        self.unit14 = Unit(in_channels=128, out_channels=128)\n",
    "\n",
    "        self.avgpool = nn.AvgPool2d(kernel_size=4)\n",
    "\n",
    "        # Add all the units into the Sequential layer in exact order\n",
    "        self.net = nn.Sequential(self.unit1, self.unit2, self.unit3, self.pool1, self.unit4, self.unit5, self.unit6\n",
    "                                 , self.unit7, self.pool2, self.unit8, self.unit9, self.unit10, self.unit11, self.pool3,\n",
    "                                 self.unit12, self.unit13, self.unit14, self.avgpool)\n",
    "\n",
    "        self.fc = nn.Linear(in_features=128, out_features=num_class)\n",
    "\n",
    "    def forward(self, input):\n",
    "        output = self.net(input)\n",
    "        output = output.view(-1, 128)\n",
    "        output = self.fc(output)\n",
    "        return output\n",
    "\n",
    "\n",
    "\n",
    "\n",
    "\n"
   ]
  },
  {
   "cell_type": "code",
   "execution_count": 9,
   "metadata": {},
   "outputs": [],
   "source": [
    "# Create model, optimizer and loss function\n",
    "#model = CNNet(num_classes)\n",
    "\n",
    "model = models.resnet101(pretrained=True)\n",
    "fc_features = model.fc.in_features\n",
    "model.fc = nn.Linear(fc_features, 5)\n",
    "\n",
    "# if cuda is available, move the model to the GPU\n",
    "\n",
    "model.cuda()\n",
    "# Define the optimizer and loss function\n",
    "optimizer = Adam(model.parameters(), lr=0.0001, weight_decay=0.0001)\n",
    "loss_fn = nn.CrossEntropyLoss()"
   ]
  },
  {
   "cell_type": "code",
   "execution_count": 10,
   "metadata": {},
   "outputs": [],
   "source": [
    "def save_models(epoch):\n",
    "    torch.save(model.state_dict(), f\"{epoch}.model\")\n",
    "    print(\"Checkpoint saved\")"
   ]
  },
  {
   "cell_type": "code",
   "execution_count": 11,
   "metadata": {},
   "outputs": [],
   "source": [
    "def test():\n",
    "    model.eval()\n",
    "    test_acc = 0.0\n",
    "    count=0\n",
    "    for i, (images, labels) in enumerate(test_loader):\n",
    "\n",
    "        images = images.to(device)\n",
    "        labels = labels.to(device)\n",
    "\n",
    "        # Predict classes using images from the test set\n",
    "        outputs = model(images)\n",
    "        _, prediction = torch.max(outputs.data, 1)\n",
    "\n",
    "        test_acc += torch.sum(prediction == labels.data).float()\n",
    "\n",
    "    # Compute the average acc and loss over all 10000 test images\n",
    "    test_acc = test_acc / 175 * 100\n",
    "    return test_acc"
   ]
  },
  {
   "cell_type": "code",
   "execution_count": 12,
   "metadata": {},
   "outputs": [],
   "source": [
    "def train(num_epoch):\n",
    "    best_acc = 0.0\n",
    "\n",
    "    for epoch in range(num_epoch):\n",
    "        model.train()\n",
    "        train_acc = 0.0\n",
    "        train_loss = 0.0\n",
    "        for i, (images, labels) in enumerate(train_loader):\n",
    "            # Move images and labels to gpu if available\n",
    "            \n",
    "\n",
    "            images = images.to(device)\n",
    "            labels = labels.to(device)\n",
    "\n",
    "            # Clear all accumulated gradients\n",
    "            optimizer.zero_grad()\n",
    "            # Predict classes using images from the test set\n",
    "            outputs = model(images)\n",
    "            # Compute the loss based on the predictions and actual labels\n",
    "            loss = loss_fn(outputs, labels)\n",
    "            # Backpropagate the loss\n",
    "            loss.backward()\n",
    "\n",
    "            # Adjust parameters according to the computed gradients\n",
    "            optimizer.step()\n",
    "\n",
    "            #train_loss += loss.cpu().data[0] * images.size(0)\n",
    "            train_loss += loss.item()\n",
    "            _, prediction = torch.max(outputs.data, 1)\n",
    "           \n",
    "\n",
    "            train_acc += torch.sum(prediction == labels.data).float()\n",
    "\n",
    "        # Call the learning rate adjustment function\n",
    "        #adjust_learning_rate(epoch)\n",
    "\n",
    "        # Compute the average acc and loss over all 50000 training images\n",
    "        train_acc = train_acc / 4153 * 100\n",
    "        train_loss = train_loss / 8306\n",
    "\n",
    "        # Evaluate on the test set\n",
    "        test_acc = test()\n",
    "\n",
    "        # Save the model if the test acc is greater than our current best\n",
    "        if train_acc > best_acc:\n",
    "            save_models(epoch)\n",
    "            best_acc = train_acc\n",
    "\n",
    "        # Print the metrics\n",
    "        print(f\"Epoch {epoch + 1}, Train Accuracy: {train_acc} , TrainLoss: {train_loss} , Test Accuracy: {test_acc}\")"
   ]
  },
  {
   "cell_type": "code",
   "execution_count": 14,
   "metadata": {},
   "outputs": [
    {
     "name": "stdout",
     "output_type": "stream",
     "text": [
      "Checkpoint saved\n",
      "Epoch 1, Train Accuracy: 79.31615447998047 , TrainLoss: 0.00287138053000533 , Test Accuracy: 23.428571701049805\n",
      "Checkpoint saved\n",
      "Epoch 2, Train Accuracy: 87.38261413574219 , TrainLoss: 0.0018110046387005794 , Test Accuracy: 23.428571701049805\n",
      "Checkpoint saved\n",
      "Epoch 3, Train Accuracy: 91.6927490234375 , TrainLoss: 0.0012727520854005807 , Test Accuracy: 21.14285659790039\n",
      "Checkpoint saved\n",
      "Epoch 4, Train Accuracy: 93.95616912841797 , TrainLoss: 0.0009142939210325558 , Test Accuracy: 20.571428298950195\n",
      "Checkpoint saved\n",
      "Epoch 5, Train Accuracy: 95.42499542236328 , TrainLoss: 0.0007171274216425382 , Test Accuracy: 18.857141494750977\n",
      "Checkpoint saved\n",
      "Epoch 6, Train Accuracy: 96.46038818359375 , TrainLoss: 0.0005857957517622811 , Test Accuracy: 20.571428298950195\n",
      "Checkpoint saved\n",
      "Epoch 7, Train Accuracy: 96.62893676757812 , TrainLoss: 0.0005289374200581012 , Test Accuracy: 22.285715103149414\n",
      "Checkpoint saved\n",
      "Epoch 8, Train Accuracy: 97.56802368164062 , TrainLoss: 0.0004634548116779431 , Test Accuracy: 23.428571701049805\n",
      "Checkpoint saved\n",
      "Epoch 9, Train Accuracy: 97.59209442138672 , TrainLoss: 0.0003857302910908644 , Test Accuracy: 20.571428298950195\n",
      "Checkpoint saved\n",
      "Epoch 10, Train Accuracy: 98.09776306152344 , TrainLoss: 0.00031646680783829344 , Test Accuracy: 19.428569793701172\n",
      "Epoch 11, Train Accuracy: 97.71249389648438 , TrainLoss: 0.0003250999115595839 , Test Accuracy: 21.14285659790039\n",
      "Epoch 12, Train Accuracy: 97.49578094482422 , TrainLoss: 0.0003511736405147305 , Test Accuracy: 21.14285659790039\n",
      "Epoch 13, Train Accuracy: 97.66433715820312 , TrainLoss: 0.00035815683184310437 , Test Accuracy: 20.0\n",
      "Checkpoint saved\n",
      "Epoch 14, Train Accuracy: 98.57933807373047 , TrainLoss: 0.0002452090285362327 , Test Accuracy: 19.428569793701172\n",
      "Epoch 15, Train Accuracy: 98.33854675292969 , TrainLoss: 0.00026928647271050923 , Test Accuracy: 22.285715103149414\n",
      "Epoch 16, Train Accuracy: 98.48301696777344 , TrainLoss: 0.0002540471502632448 , Test Accuracy: 22.285715103149414\n",
      "Epoch 17, Train Accuracy: 98.33854675292969 , TrainLoss: 0.0002756659684905927 , Test Accuracy: 24.0\n",
      "Checkpoint saved\n",
      "Epoch 18, Train Accuracy: 98.62749481201172 , TrainLoss: 0.00019651026473520335 , Test Accuracy: 21.714284896850586\n",
      "Epoch 19, Train Accuracy: 98.53118133544922 , TrainLoss: 0.0002619047174797578 , Test Accuracy: 22.85714340209961\n",
      "Checkpoint saved\n",
      "Epoch 20, Train Accuracy: 98.98868560791016 , TrainLoss: 0.00016354802279319822 , Test Accuracy: 24.571428298950195\n"
     ]
    }
   ],
   "source": [
    "if __name__ == '__main__':\n",
    "    freeze_support()\n",
    "    train(num_epochs)"
   ]
  },
  {
   "cell_type": "code",
   "execution_count": null,
   "metadata": {},
   "outputs": [],
   "source": []
  },
  {
   "cell_type": "code",
   "execution_count": null,
   "metadata": {},
   "outputs": [],
   "source": []
  },
  {
   "cell_type": "code",
   "execution_count": null,
   "metadata": {},
   "outputs": [],
   "source": []
  }
 ],
 "metadata": {
  "kernelspec": {
   "display_name": "Python 3",
   "language": "python",
   "name": "python3"
  },
  "language_info": {
   "codemirror_mode": {
    "name": "ipython",
    "version": 3
   },
   "file_extension": ".py",
   "mimetype": "text/x-python",
   "name": "python",
   "nbconvert_exporter": "python",
   "pygments_lexer": "ipython3",
   "version": "3.6.7"
  }
 },
 "nbformat": 4,
 "nbformat_minor": 4
}
